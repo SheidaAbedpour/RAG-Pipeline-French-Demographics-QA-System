{
 "cells": [
  {
   "cell_type": "code",
   "id": "initial_id",
   "metadata": {
    "collapsed": true,
    "ExecuteTime": {
     "end_time": "2025-07-03T08:38:21.759349Z",
     "start_time": "2025-07-03T08:38:21.738829Z"
    }
   },
   "source": [
    "import json\n",
    "import pandas as pd\n",
    "import matplotlib.pyplot as plt\n",
    "import seaborn as sns\n",
    "from pathlib import Path\n",
    "import sys\n",
    "import os\n",
    "\n",
    "# Add src to path\n",
    "sys.path.append(os.path.join('..', 'src'))\n",
    "from src.data.text_cleaner import TextCleaner\n",
    "\n",
    "# Set up plotting\n",
    "plt.style.use('default')\n",
    "sns.set_palette(\"husl\")"
   ],
   "outputs": [],
   "execution_count": 1
  },
  {
   "metadata": {
    "ExecuteTime": {
     "end_time": "2025-07-03T08:39:20.045067Z",
     "start_time": "2025-07-03T08:39:20.038274Z"
    }
   },
   "cell_type": "code",
   "source": [
    "def load_processed_data():\n",
    "    \"\"\"Load all processed data files\"\"\"\n",
    "    data_dir = Path('../data/processed')\n",
    "    \n",
    "    results = {}\n",
    "    \n",
    "    # Load chunking results\n",
    "    for strategy in ['fixed', 'sentence', 'semantic']:\n",
    "        chunk_file = data_dir / f'chunks_{strategy}.json'\n",
    "        if chunk_file.exists():\n",
    "            with open(chunk_file, 'r') as f:\n",
    "                results[strategy] = json.load(f)\n",
    "    \n",
    "    # Load statistics\n",
    "    stats_file = data_dir / 'processing_stats.json'\n",
    "    if stats_file.exists():\n",
    "        with open(stats_file, 'r') as f:\n",
    "            results['stats'] = json.load(f)\n",
    "    \n",
    "    # Load raw data\n",
    "    raw_file = Path('../data/raw/britannica_raw.json')\n",
    "    if raw_file.exists():\n",
    "        with open(raw_file, 'r') as f:\n",
    "            results['raw'] = json.load(f)\n",
    "    \n",
    "    return results"
   ],
   "id": "e0973315f5e11578",
   "outputs": [],
   "execution_count": 2
  },
  {
   "metadata": {
    "ExecuteTime": {
     "end_time": "2025-07-03T08:39:35.684406Z",
     "start_time": "2025-07-03T08:39:35.676195Z"
    }
   },
   "cell_type": "code",
   "source": [
    "def analyze_chunk_distribution(data):\n",
    "    \"\"\"Analyze chunk size distribution across strategies\"\"\"\n",
    "    print(\"📊 CHUNK SIZE DISTRIBUTION ANALYSIS\")\n",
    "    print(\"=\" * 50)\n",
    "    \n",
    "    fig, axes = plt.subplots(1, 3, figsize=(15, 5))\n",
    "    \n",
    "    for idx, strategy in enumerate(['fixed', 'sentence', 'semantic']):\n",
    "        if strategy in data:\n",
    "            chunks = data[strategy]\n",
    "            sizes = [chunk['chunk_size'] for chunk in chunks]\n",
    "            \n",
    "            # Plot histogram\n",
    "            axes[idx].hist(sizes, bins=20, alpha=0.7, color=sns.color_palette()[idx])\n",
    "            axes[idx].set_title(f'{strategy.title()} Chunking')\n",
    "            axes[idx].set_xlabel('Chunk Size (tokens)')\n",
    "            axes[idx].set_ylabel('Frequency')\n",
    "            \n",
    "            # Add statistics\n",
    "            mean_size = sum(sizes) / len(sizes)\n",
    "            axes[idx].axvline(mean_size, color='red', linestyle='--', label=f'Mean: {mean_size:.1f}')\n",
    "            axes[idx].legend()\n",
    "            \n",
    "            print(f\"{strategy.upper()}:\")\n",
    "            print(f\"  Total chunks: {len(chunks)}\")\n",
    "            print(f\"  Mean size: {mean_size:.1f} tokens\")\n",
    "            print(f\"  Min size: {min(sizes)} tokens\")\n",
    "            print(f\"  Max size: {max(sizes)} tokens\")\n",
    "            print(f\"  Std dev: {(sum((x - mean_size)**2 for x in sizes) / len(sizes))**0.5:.1f}\")\n",
    "            print()\n",
    "    \n",
    "    plt.tight_layout()\n",
    "    plt.savefig('../docs/chunk_distribution.png', dpi=300, bbox_inches='tight')\n",
    "    plt.show()"
   ],
   "id": "3ba34328ec584e3",
   "outputs": [],
   "execution_count": 3
  },
  {
   "metadata": {
    "ExecuteTime": {
     "end_time": "2025-07-03T08:39:52.934630Z",
     "start_time": "2025-07-03T08:39:52.924726Z"
    }
   },
   "cell_type": "code",
   "source": [
    "def analyze_content_coverage(data):\n",
    "    \"\"\"Analyze content coverage by section\"\"\"\n",
    "    print(\"🗂️ CONTENT COVERAGE ANALYSIS\")\n",
    "    print(\"=\" * 50)\n",
    "    \n",
    "    if 'fixed' not in data:\n",
    "        print(\"No processed data found!\")\n",
    "        return\n",
    "    \n",
    "    chunks = data['fixed']\n",
    "    \n",
    "    # Count chunks by section\n",
    "    section_counts = {}\n",
    "    section_tokens = {}\n",
    "    \n",
    "    for chunk in chunks:\n",
    "        section = chunk['section']\n",
    "        if section not in section_counts:\n",
    "            section_counts[section] = 0\n",
    "            section_tokens[section] = 0\n",
    "        \n",
    "        section_counts[section] += 1\n",
    "        section_tokens[section] += chunk['chunk_size']\n",
    "    \n",
    "    # Create visualization\n",
    "    fig, (ax1, ax2) = plt.subplots(1, 2, figsize=(15, 6))\n",
    "    \n",
    "    # Chunks per section\n",
    "    sections = list(section_counts.keys())\n",
    "    counts = list(section_counts.values())\n",
    "    \n",
    "    ax1.bar(range(len(sections)), counts)\n",
    "    ax1.set_xticks(range(len(sections)))\n",
    "    ax1.set_xticklabels(sections, rotation=45, ha='right')\n",
    "    ax1.set_title('Chunks per Section')\n",
    "    ax1.set_ylabel('Number of Chunks')\n",
    "    \n",
    "    # Tokens per section\n",
    "    tokens = list(section_tokens.values())\n",
    "    ax2.bar(range(len(sections)), tokens)\n",
    "    ax2.set_xticks(range(len(sections)))\n",
    "    ax2.set_xticklabels(sections, rotation=45, ha='right')\n",
    "    ax2.set_title('Tokens per Section')\n",
    "    ax2.set_ylabel('Total Tokens')\n",
    "    \n",
    "    plt.tight_layout()\n",
    "    plt.savefig('../docs/content_coverage.png', dpi=300, bbox_inches='tight')\n",
    "    plt.show()\n",
    "    \n",
    "    # Print detailed stats\n",
    "    total_chunks = sum(counts)\n",
    "    total_tokens = sum(tokens)\n",
    "    \n",
    "    print(f\"Total chunks: {total_chunks}\")\n",
    "    print(f\"Total tokens: {total_tokens}\")\n",
    "    print(f\"Average tokens per section: {total_tokens/len(sections):.1f}\")\n",
    "    print()\n",
    "    \n",
    "    print(\"Section breakdown:\")\n",
    "    for section, count, token_count in zip(sections, counts, tokens):\n",
    "        print(f\"  {section}: {count} chunks ({count/total_chunks*100:.1f}%), {token_count} tokens\")\n"
   ],
   "id": "99f36d50798164f5",
   "outputs": [],
   "execution_count": 4
  },
  {
   "metadata": {
    "ExecuteTime": {
     "end_time": "2025-07-03T08:40:11.937342Z",
     "start_time": "2025-07-03T08:40:11.926551Z"
    }
   },
   "cell_type": "code",
   "source": [
    "def analyze_text_quality(data):\n",
    "    \"\"\"Analyze text quality metrics\"\"\"\n",
    "    print(\"✨ TEXT QUALITY ANALYSIS\")\n",
    "    print(\"=\" * 50)\n",
    "    \n",
    "    if 'fixed' not in data:\n",
    "        print(\"No processed data found!\")\n",
    "        return\n",
    "    \n",
    "    chunks = data['fixed']\n",
    "    cleaner = TextCleaner()\n",
    "    \n",
    "    quality_metrics = {\n",
    "        'total_chunks': len(chunks),\n",
    "        'empty_chunks': 0,\n",
    "        'short_chunks': 0,  # < 50 tokens\n",
    "        'avg_sentence_length': 0,\n",
    "        'special_chars': 0,\n",
    "        'encoding_issues': 0\n",
    "    }\n",
    "    \n",
    "    all_texts = []\n",
    "    sentence_lengths = []\n",
    "    \n",
    "    for chunk in chunks:\n",
    "        text = chunk['text']\n",
    "        all_texts.append(text)\n",
    "        \n",
    "        # Check for empty chunks\n",
    "        if not text.strip():\n",
    "            quality_metrics['empty_chunks'] += 1\n",
    "            continue\n",
    "        \n",
    "        # Check for short chunks\n",
    "        if chunk['chunk_size'] < 50:\n",
    "            quality_metrics['short_chunks'] += 1\n",
    "        \n",
    "        # Sentence analysis\n",
    "        sentences = text.split('.')\n",
    "        for sentence in sentences:\n",
    "            if sentence.strip():\n",
    "                sentence_lengths.append(len(sentence.split()))\n",
    "        \n",
    "        # Check for special characters\n",
    "        if any(ord(c) > 127 for c in text):\n",
    "            quality_metrics['special_chars'] += 1\n",
    "        \n",
    "        # Check for encoding issues\n",
    "        if any(issue in text for issue in ['â€™', 'â€œ', 'â€']):\n",
    "            quality_metrics['encoding_issues'] += 1\n",
    "    \n",
    "    if sentence_lengths:\n",
    "        quality_metrics['avg_sentence_length'] = sum(sentence_lengths) / len(sentence_lengths)\n",
    "    \n",
    "    # Print results\n",
    "    print(\"Quality Metrics:\")\n",
    "    print(f\"  Total chunks: {quality_metrics['total_chunks']}\")\n",
    "    print(f\"  Empty chunks: {quality_metrics['empty_chunks']} ({quality_metrics['empty_chunks']/quality_metrics['total_chunks']*100:.1f}%)\")\n",
    "    print(f\"  Short chunks (<50 tokens): {quality_metrics['short_chunks']} ({quality_metrics['short_chunks']/quality_metrics['total_chunks']*100:.1f}%)\")\n",
    "    print(f\"  Average sentence length: {quality_metrics['avg_sentence_length']:.1f} words\")\n",
    "    print(f\"  Chunks with special chars: {quality_metrics['special_chars']} ({quality_metrics['special_chars']/quality_metrics['total_chunks']*100:.1f}%)\")\n",
    "    print(f\"  Chunks with encoding issues: {quality_metrics['encoding_issues']} ({quality_metrics['encoding_issues']/quality_metrics['total_chunks']*100:.1f}%)\")\n"
   ],
   "id": "817e55337239f189",
   "outputs": [],
   "execution_count": 5
  },
  {
   "metadata": {
    "ExecuteTime": {
     "end_time": "2025-07-03T08:40:23.765030Z",
     "start_time": "2025-07-03T08:40:23.759749Z"
    }
   },
   "cell_type": "code",
   "source": [
    "def show_sample_chunks(data):\n",
    "    \"\"\"Show sample chunks from each strategy\"\"\"\n",
    "    print(\"📝 SAMPLE CHUNKS\")\n",
    "    print(\"=\" * 50)\n",
    "    \n",
    "    for strategy in ['fixed', 'sentence', 'semantic']:\n",
    "        if strategy in data:\n",
    "            chunks = data[strategy]\n",
    "            print(f\"\\n{strategy.upper()} CHUNKING SAMPLE:\")\n",
    "            print(\"-\" * 30)\n",
    "            \n",
    "            # Show first chunk\n",
    "            if chunks:\n",
    "                sample = chunks[0]\n",
    "                print(f\"Chunk ID: {sample['chunk_id']}\")\n",
    "                print(f\"Section: {sample['section']}\")\n",
    "                print(f\"Size: {sample['chunk_size']} tokens\")\n",
    "                print(f\"Text preview: {sample['text'][:200]}...\")\n",
    "                print()"
   ],
   "id": "4345a3dc09468151",
   "outputs": [],
   "execution_count": 6
  },
  {
   "metadata": {
    "ExecuteTime": {
     "end_time": "2025-07-03T08:40:39.952735Z",
     "start_time": "2025-07-03T08:40:39.944355Z"
    }
   },
   "cell_type": "code",
   "source": [
    "def compare_chunking_strategies(data):\n",
    "    \"\"\"Compare different chunking strategies\"\"\"\n",
    "    print(\"⚖️ CHUNKING STRATEGY COMPARISON\")\n",
    "    print(\"=\" * 50)\n",
    "    \n",
    "    strategies = ['fixed', 'sentence', 'semantic']\n",
    "    comparison_data = []\n",
    "    \n",
    "    for strategy in strategies:\n",
    "        if strategy in data:\n",
    "            chunks = data[strategy]\n",
    "            sizes = [chunk['chunk_size'] for chunk in chunks]\n",
    "            \n",
    "            strategy_stats = {\n",
    "                'Strategy': strategy.title(),\n",
    "                'Total Chunks': len(chunks),\n",
    "                'Mean Size': sum(sizes) / len(sizes),\n",
    "                'Std Dev': (sum((x - sum(sizes)/len(sizes))**2 for x in sizes) / len(sizes))**0.5,\n",
    "                'Min Size': min(sizes),\n",
    "                'Max Size': max(sizes)\n",
    "            }\n",
    "            comparison_data.append(strategy_stats)\n",
    "    \n",
    "    # Create comparison table\n",
    "    df = pd.DataFrame(comparison_data)\n",
    "    print(df.to_string(index=False, float_format='%.1f'))\n",
    "    \n",
    "    # Recommendations\n",
    "    print(\"\\n🎯 RECOMMENDATIONS:\")\n",
    "    print(\"- Fixed chunking: Best for consistent embedding performance\")\n",
    "    print(\"- Sentence chunking: Best balance of consistency and semantic coherence\")\n",
    "    print(\"- Semantic chunking: Best for topic-focused retrieval\")\n",
    "    \n",
    "    return df"
   ],
   "id": "a899133d0cf15a3e",
   "outputs": [],
   "execution_count": 7
  },
  {
   "metadata": {
    "ExecuteTime": {
     "end_time": "2025-07-03T08:40:59.665875Z",
     "start_time": "2025-07-03T08:40:59.658039Z"
    }
   },
   "cell_type": "code",
   "source": [
    "def validate_metadata_quality(data):\n",
    "    \"\"\"Validate metadata completeness and quality\"\"\"\n",
    "    print(\"🏷️ METADATA QUALITY VALIDATION\")\n",
    "    print(\"=\" * 50)\n",
    "    \n",
    "    if 'fixed' not in data:\n",
    "        print(\"No processed data found!\")\n",
    "        return\n",
    "    \n",
    "    chunks = data['fixed']\n",
    "    \n",
    "    # Check metadata completeness\n",
    "    required_fields = ['text', 'metadata', 'chunk_id', 'source_url', 'section']\n",
    "    optional_fields = ['subsection', 'chunk_index', 'chunk_size']\n",
    "    \n",
    "    missing_required = {field: 0 for field in required_fields}\n",
    "    missing_optional = {field: 0 for field in optional_fields}\n",
    "    \n",
    "    # URL validation\n",
    "    valid_urls = 0\n",
    "    unique_sections = set()\n",
    "    unique_subsections = set()\n",
    "    \n",
    "    for chunk in chunks:\n",
    "        # Check required fields\n",
    "        for field in required_fields:\n",
    "            if field not in chunk or not chunk[field]:\n",
    "                missing_required[field] += 1\n",
    "        \n",
    "        # Check optional fields\n",
    "        for field in optional_fields:\n",
    "            if field not in chunk:\n",
    "                missing_optional[field] += 1\n",
    "        \n",
    "        # URL validation\n",
    "        if 'source_url' in chunk and chunk['source_url'].startswith('http'):\n",
    "            valid_urls += 1\n",
    "        \n",
    "        # Collect unique values\n",
    "        if 'section' in chunk:\n",
    "            unique_sections.add(chunk['section'])\n",
    "        if 'subsection' in chunk and chunk['subsection']:\n",
    "            unique_subsections.add(chunk['subsection'])\n",
    "    \n",
    "    print(\"Required Field Completeness:\")\n",
    "    for field, missing in missing_required.items():\n",
    "        completion = (len(chunks) - missing) / len(chunks) * 100\n",
    "        print(f\"  {field}: {completion:.1f}% complete ({missing} missing)\")\n",
    "    \n",
    "    print(f\"\\nOptional Field Availability:\")\n",
    "    for field, missing in missing_optional.items():\n",
    "        available = (len(chunks) - missing) / len(chunks) * 100\n",
    "        print(f\"  {field}: {available:.1f}% available\")\n",
    "    \n",
    "    print(f\"\\nMetadata Statistics:\")\n",
    "    print(f\"  Valid URLs: {valid_urls}/{len(chunks)} ({valid_urls/len(chunks)*100:.1f}%)\")\n",
    "    print(f\"  Unique sections: {len(unique_sections)}\")\n",
    "    print(f\"  Unique subsections: {len(unique_subsections)}\")\n",
    "    print(f\"  Sections: {sorted(unique_sections)}\")"
   ],
   "id": "d8281bbf75d9453a",
   "outputs": [],
   "execution_count": 8
  },
  {
   "metadata": {
    "ExecuteTime": {
     "end_time": "2025-07-03T08:41:13.500486Z",
     "start_time": "2025-07-03T08:41:13.490843Z"
    }
   },
   "cell_type": "code",
   "source": [
    "def export_validation_report(data):\n",
    "    \"\"\"Export a comprehensive validation report\"\"\"\n",
    "    print(\"📄 EXPORTING VALIDATION REPORT\")\n",
    "    print(\"=\" * 50)\n",
    "    \n",
    "    report = {\n",
    "        'validation_timestamp': pd.Timestamp.now().isoformat(),\n",
    "        'data_summary': {},\n",
    "        'quality_metrics': {},\n",
    "        'recommendations': []\n",
    "    }\n",
    "    \n",
    "    # Data summary\n",
    "    for strategy in ['fixed', 'sentence', 'semantic']:\n",
    "        if strategy in data:\n",
    "            chunks = data[strategy]\n",
    "            sizes = [chunk['chunk_size'] for chunk in chunks]\n",
    "            \n",
    "            report['data_summary'][strategy] = {\n",
    "                'total_chunks': len(chunks),\n",
    "                'mean_size': sum(sizes) / len(sizes),\n",
    "                'std_dev': (sum((x - sum(sizes)/len(sizes))**2 for x in sizes) / len(sizes))**0.5,\n",
    "                'min_size': min(sizes),\n",
    "                'max_size': max(sizes)\n",
    "            }\n",
    "    \n",
    "    # Quality metrics\n",
    "    if 'fixed' in data:\n",
    "        chunks = data['fixed']\n",
    "        empty_chunks = sum(1 for chunk in chunks if not chunk['text'].strip())\n",
    "        short_chunks = sum(1 for chunk in chunks if chunk['chunk_size'] < 50)\n",
    "        \n",
    "        report['quality_metrics'] = {\n",
    "            'total_chunks': len(chunks),\n",
    "            'empty_chunks': empty_chunks,\n",
    "            'short_chunks': short_chunks,\n",
    "            'quality_score': (1 - (empty_chunks + short_chunks) / len(chunks)) * 100\n",
    "        }\n",
    "    \n",
    "    # Recommendations\n",
    "    if 'stats' in data:\n",
    "        stats = data['stats']\n",
    "        \n",
    "        # Recommend best strategy based on consistency\n",
    "        consistency_scores = {}\n",
    "        for strategy, strategy_stats in stats.items():\n",
    "            if 'avg_chunk_size' in strategy_stats:\n",
    "                # Lower std dev relative to mean = higher consistency\n",
    "                consistency = strategy_stats['avg_chunk_size'] / (strategy_stats.get('std_dev', 1) + 1)\n",
    "                consistency_scores[strategy] = consistency\n",
    "        \n",
    "        if consistency_scores:\n",
    "            best_strategy = max(consistency_scores.keys(), key=lambda x: consistency_scores[x])\n",
    "            report['recommendations'].append(f\"Most consistent chunking: {best_strategy}\")\n",
    "    \n",
    "    # Save report\n",
    "    os.makedirs('../docs', exist_ok=True)\n",
    "    with open('../docs/validation_report.json', 'w') as f:\n",
    "        json.dump(report, f, indent=2)\n",
    "    \n",
    "    print(f\"✅ Validation report saved to: ../docs/validation_report.json\")\n",
    "    print(f\"📊 Quality score: {report['quality_metrics'].get('quality_score', 0):.1f}%\")"
   ],
   "id": "af3b304371e47f63",
   "outputs": [],
   "execution_count": 9
  },
  {
   "metadata": {
    "ExecuteTime": {
     "end_time": "2025-07-03T08:41:53.806424Z",
     "start_time": "2025-07-03T08:41:53.787943Z"
    }
   },
   "cell_type": "code",
   "source": [
    "print(\"=\" * 60)\n",
    "print(\"🔍 FRANCE RAG PIPELINE - DATA VALIDATION\")\n",
    "print(\"=\" * 60)\n",
    "\n",
    "# Load data\n",
    "print(\"📁 Loading processed data...\")\n",
    "data = load_processed_data()\n",
    "\n",
    "if not data:\n",
    "    print(\"❌ No processed data found! Please run data processing first.\")\n",
    "\n",
    "print(f\"✅ Loaded data with {len(data)} components\")"
   ],
   "id": "15d3e1f3802459fb",
   "outputs": [
    {
     "name": "stdout",
     "output_type": "stream",
     "text": [
      "============================================================\n",
      "🔍 FRANCE RAG PIPELINE - DATA VALIDATION\n",
      "============================================================\n",
      "📁 Loading processed data...\n",
      "✅ Loaded data with 5 components\n"
     ]
    }
   ],
   "execution_count": 10
  },
  {
   "metadata": {
    "ExecuteTime": {
     "end_time": "2025-07-03T08:42:26.209663Z",
     "start_time": "2025-07-03T08:42:24.684451Z"
    }
   },
   "cell_type": "code",
   "source": "analyze_chunk_distribution(data)",
   "id": "aeec64e9195a31ee",
   "outputs": [
    {
     "name": "stdout",
     "output_type": "stream",
     "text": [
      "📊 CHUNK SIZE DISTRIBUTION ANALYSIS\n",
      "==================================================\n",
      "FIXED:\n",
      "  Total chunks: 70\n",
      "  Mean size: 363.4 tokens\n",
      "  Min size: 27 tokens\n",
      "  Max size: 512 tokens\n",
      "  Std dev: 176.6\n",
      "\n",
      "SENTENCE:\n",
      "  Total chunks: 81\n",
      "  Mean size: 357.3 tokens\n",
      "  Min size: 27 tokens\n",
      "  Max size: 576 tokens\n",
      "  Std dev: 171.8\n",
      "\n",
      "SEMANTIC:\n",
      "  Total chunks: 31\n",
      "  Mean size: 757.7 tokens\n",
      "  Min size: 27 tokens\n",
      "  Max size: 2913 tokens\n",
      "  Std dev: 973.6\n",
      "\n"
     ]
    },
    {
     "data": {
      "text/plain": [
       "<Figure size 1500x500 with 3 Axes>"
      ],
      "image/png": "[encoded data removed]"
     },
     "metadata": {},
     "output_type": "display_data"
    }
   ],
   "execution_count": 11
  },
  {
   "metadata": {
    "ExecuteTime": {
     "end_time": "2025-07-03T08:42:39.346917Z",
     "start_time": "2025-07-03T08:42:38.150056Z"
    }
   },
   "cell_type": "code",
   "source": "analyze_content_coverage(data)",
   "id": "185a34a3ac2529e3",
   "outputs": [
    {
     "name": "stdout",
     "output_type": "stream",
     "text": [
      "🗂️ CONTENT COVERAGE ANALYSIS\n",
      "==================================================\n"
     ]
    },
    {
     "data": {
      "text/plain": [
       "<Figure size 1500x600 with 2 Axes>"
      ],
      "image/png": "[encoded data removed]"
     },
     "metadata": {},
     "output_type": "display_data"
    },
    {
     "name": "stdout",
     "output_type": "stream",
     "text": [
      "Total chunks: 70\n",
      "Total tokens: 25438\n",
      "Average tokens per section: 3179.8\n",
      "\n",
      "Section breakdown:\n",
      "  Land: 6 chunks (8.6%), 2494 tokens\n",
      "  The Hercynian massifs: 10 chunks (14.3%), 3477 tokens\n",
      "  The great lowlands: 11 chunks (15.7%), 3467 tokens\n",
      "  The younger mountains and adjacent plains: 7 chunks (10.0%), 2759 tokens\n",
      "  Drainage: 13 chunks (18.6%), 4253 tokens\n",
      "  Soils: 5 chunks (7.1%), 2280 tokens\n",
      "  Climate: 9 chunks (12.9%), 3294 tokens\n",
      "  Plant and animal life: 9 chunks (12.9%), 3414 tokens\n"
     ]
    }
   ],
   "execution_count": 12
  },
  {
   "metadata": {
    "ExecuteTime": {
     "end_time": "2025-07-03T08:42:49.956655Z",
     "start_time": "2025-07-03T08:42:49.928827Z"
    }
   },
   "cell_type": "code",
   "source": "analyze_text_quality(data)",
   "id": "eebc92b16b70bd3b",
   "outputs": [
    {
     "name": "stdout",
     "output_type": "stream",
     "text": [
      "✨ TEXT QUALITY ANALYSIS\n",
      "==================================================\n",
      "Quality Metrics:\n",
      "  Total chunks: 70\n",
      "  Empty chunks: 0 (0.0%)\n",
      "  Short chunks (<50 tokens): 2 (2.9%)\n",
      "  Average sentence length: 32.9 words\n",
      "  Chunks with special chars: 0 (0.0%)\n",
      "  Chunks with encoding issues: 0 (0.0%)\n"
     ]
    }
   ],
   "execution_count": 13
  },
  {
   "metadata": {
    "ExecuteTime": {
     "end_time": "2025-07-03T08:42:59.262137Z",
     "start_time": "2025-07-03T08:42:59.258309Z"
    }
   },
   "cell_type": "code",
   "source": "show_sample_chunks(data)",
   "id": "94e1c8b0f2dd63d6",
   "outputs": [
    {
     "name": "stdout",
     "output_type": "stream",
     "text": [
      "📝 SAMPLE CHUNKS\n",
      "==================================================\n",
      "\n",
      "FIXED CHUNKING SAMPLE:\n",
      "------------------------------\n",
      "Chunk ID: Land_main_0\n",
      "Section: Land\n",
      "Size: 512 tokens\n",
      "Text preview: France Table of Contents Introduction Quick Facts Land Relief The Hercynian massifs The Ardennes The Vosges The Massif Central The Massif Armoricain The great lowlands The Paris Basin The Flanders Pla...\n",
      "\n",
      "\n",
      "SENTENCE CHUNKING SAMPLE:\n",
      "------------------------------\n",
      "Chunk ID: Land_main_0\n",
      "Section: Land\n",
      "Size: 344 tokens\n",
      "Text preview: France Table of Contents Introduction  Quick Facts Land Relief The Hercynian massifs The Ardennes The Vosges The Massif Central The Massif Armoricain The great lowlands The Paris Basin The Flanders Pl...\n",
      "\n",
      "\n",
      "SEMANTIC CHUNKING SAMPLE:\n",
      "------------------------------\n",
      "Chunk ID: Land_main_0\n",
      "Section: Land\n",
      "Size: 2040 tokens\n",
      "Text preview: France Table of Contents Introduction  Quick Facts Land Relief The Hercynian massifs The Ardennes The Vosges The Massif Central The Massif Armoricain The great lowlands The Paris Basin The Flanders Pl...\n",
      "\n"
     ]
    }
   ],
   "execution_count": 14
  },
  {
   "metadata": {
    "ExecuteTime": {
     "end_time": "2025-07-03T08:43:10.902060Z",
     "start_time": "2025-07-03T08:43:10.801276Z"
    }
   },
   "cell_type": "code",
   "source": "compare_chunking_strategies(data)",
   "id": "6388c08dac649a39",
   "outputs": [
    {
     "name": "stdout",
     "output_type": "stream",
     "text": [
      "⚖️ CHUNKING STRATEGY COMPARISON\n",
      "==================================================\n",
      "Strategy  Total Chunks  Mean Size  Std Dev  Min Size  Max Size\n",
      "   Fixed            70      363.4    176.6        27       512\n",
      "Sentence            81      357.3    171.8        27       576\n",
      "Semantic            31      757.7    973.6        27      2913\n",
      "\n",
      "🎯 RECOMMENDATIONS:\n",
      "- Fixed chunking: Best for consistent embedding performance\n",
      "- Sentence chunking: Best balance of consistency and semantic coherence\n",
      "- Semantic chunking: Best for topic-focused retrieval\n"
     ]
    },
    {
     "data": {
      "text/plain": [
       "   Strategy  Total Chunks   Mean Size     Std Dev  Min Size  Max Size\n",
       "0     Fixed            70  363.400000  176.557267        27       512\n",
       "1  Sentence            81  357.271605  171.759020        27       576\n",
       "2  Semantic            31  757.677419  973.610884        27      2913"
      ],
      "text/html": [
       "<div>\n",
       "<style scoped>\n",
       "    .dataframe tbody tr th:only-of-type {\n",
       "        vertical-align: middle;\n",
       "    }\n",
       "\n",
       "    .dataframe tbody tr th {\n",
       "        vertical-align: top;\n",
       "    }\n",
       "\n",
       "    .dataframe thead th {\n",
       "        text-align: right;\n",
       "    }\n",
       "</style>\n",
       "<table border=\"1\" class=\"dataframe\">\n",
       "  <thead>\n",
       "    <tr style=\"text-align: right;\">\n",
       "      <th></th>\n",
       "      <th>Strategy</th>\n",
       "      <th>Total Chunks</th>\n",
       "      <th>Mean Size</th>\n",
       "      <th>Std Dev</th>\n",
       "      <th>Min Size</th>\n",
       "      <th>Max Size</th>\n",
       "    </tr>\n",
       "  </thead>\n",
       "  <tbody>\n",
       "    <tr>\n",
       "      <th>0</th>\n",
       "      <td>Fixed</td>\n",
       "      <td>70</td>\n",
       "      <td>363.400000</td>\n",
       "      <td>176.557267</td>\n",
       "      <td>27</td>\n",
       "      <td>512</td>\n",
       "    </tr>\n",
       "    <tr>\n",
       "      <th>1</th>\n",
       "      <td>Sentence</td>\n",
       "      <td>81</td>\n",
       "      <td>357.271605</td>\n",
       "      <td>171.759020</td>\n",
       "      <td>27</td>\n",
       "      <td>576</td>\n",
       "    </tr>\n",
       "    <tr>\n",
       "      <th>2</th>\n",
       "      <td>Semantic</td>\n",
       "      <td>31</td>\n",
       "      <td>757.677419</td>\n",
       "      <td>973.610884</td>\n",
       "      <td>27</td>\n",
       "      <td>2913</td>\n",
       "    </tr>\n",
       "  </tbody>\n",
       "</table>\n",
       "</div>"
      ]
     },
     "execution_count": 15,
     "metadata": {},
     "output_type": "execute_result"
    }
   ],
   "execution_count": 15
  },
  {
   "metadata": {
    "ExecuteTime": {
     "end_time": "2025-07-03T08:43:29.881942Z",
     "start_time": "2025-07-03T08:43:29.877684Z"
    }
   },
   "cell_type": "code",
   "source": "validate_metadata_quality(data)",
   "id": "3ab8768c8af6ec9a",
   "outputs": [
    {
     "name": "stdout",
     "output_type": "stream",
     "text": [
      "🏷️ METADATA QUALITY VALIDATION\n",
      "==================================================\n",
      "Required Field Completeness:\n",
      "  text: 100.0% complete (0 missing)\n",
      "  metadata: 100.0% complete (0 missing)\n",
      "  chunk_id: 100.0% complete (0 missing)\n",
      "  source_url: 100.0% complete (0 missing)\n",
      "  section: 100.0% complete (0 missing)\n",
      "\n",
      "Optional Field Availability:\n",
      "  subsection: 100.0% available\n",
      "  chunk_index: 100.0% available\n",
      "  chunk_size: 100.0% available\n",
      "\n",
      "Metadata Statistics:\n",
      "  Valid URLs: 70/70 (100.0%)\n",
      "  Unique sections: 8\n",
      "  Unique subsections: 23\n",
      "  Sections: ['Climate', 'Drainage', 'Land', 'Plant and animal life', 'Soils', 'The Hercynian massifs', 'The great lowlands', 'The younger mountains and adjacent plains']\n"
     ]
    }
   ],
   "execution_count": 16
  },
  {
   "metadata": {
    "ExecuteTime": {
     "end_time": "2025-07-03T08:43:42.400678Z",
     "start_time": "2025-07-03T08:43:42.381086Z"
    }
   },
   "cell_type": "code",
   "source": "export_validation_report(data)",
   "id": "c5ec439161b7e023",
   "outputs": [
    {
     "name": "stdout",
     "output_type": "stream",
     "text": [
      "📄 EXPORTING VALIDATION REPORT\n",
      "==================================================\n",
      "✅ Validation report saved to: ../docs/validation_report.json\n",
      "📊 Quality score: 97.1%\n"
     ]
    }
   ],
   "execution_count": 17
  },
  {
   "metadata": {},
   "cell_type": "code",
   "outputs": [],
   "execution_count": null,
   "source": "",
   "id": "f9c85d6040ed320"
  }
 ],
 "metadata": {
  "kernelspec": {
   "display_name": "Python 3",
   "language": "python",
   "name": "python3"
  },
  "language_info": {
   "codemirror_mode": {
    "name": "ipython",
    "version": 2
   },
   "file_extension": ".py",
   "mimetype": "text/x-python",
   "name": "python",
   "nbconvert_exporter": "python",
   "pygments_lexer": "ipython2",
   "version": "2.7.6"
  }
 },
 "nbformat": 4,
 "nbformat_minor": 5
}
